{
 "cells": [
  {
   "cell_type": "code",
   "execution_count": 2,
   "metadata": {},
   "outputs": [
    {
     "name": "stdout",
     "output_type": "stream",
     "text": [
      "\u001b[32m2023-12-15 13:01:45 - numexpr.utils - INFO - NumExpr defaulting to 4 threads.\u001b[0m\n"
     ]
    }
   ],
   "source": [
    "# Import libraries\n",
    "import logging\n",
    "from logging import config\n",
    "config.fileConfig(\"../logger.ini\")\n",
    "\n",
    "import os\n",
    "import numpy as np\n",
    "import folium\n",
    "logging.getLogger(\"matplotlib\").setLevel(logging.WARNING)\n",
    "logging.getLogger(\"rasterio\").setLevel(logging.WARNING)"
   ]
  },
  {
   "cell_type": "code",
   "execution_count": null,
   "metadata": {},
   "outputs": [],
   "source": [
    "# Visualising a bounding box\n",
    "bounds = [33, 0, 34, 1]\n",
    "image = np.zeros((61, 61))\n",
    "image[0, :] = 1.0\n",
    "image[60, :] = 1.0\n",
    "image[:, 0] = 1.0\n",
    "image[:, 60] = 1.0\n",
    "\n",
    "# Interactive map\n",
    "m = folium.Map(location=[0.5033, 33.1380], zoom_start=10)\n",
    "folium.raster_layers.ImageOverlay(\n",
    "    image=image,\n",
    "    bounds=[[bounds[1], bounds[2]], [bounds[3], bounds[0]]],\n",
    "    colormap=lambda x: (1, 0, 0, x),\n",
    ").add_to(m)\n",
    "m"
   ]
  },
  {
   "cell_type": "code",
   "execution_count": null,
   "metadata": {},
   "outputs": [],
   "source": [
    "# TODO Grid zones and naming them"
   ]
  }
 ],
 "metadata": {
  "kernelspec": {
   "display_name": "Rivers",
   "language": "python",
   "name": "python3"
  },
  "language_info": {
   "codemirror_mode": {
    "name": "ipython",
    "version": 3
   },
   "file_extension": ".py",
   "mimetype": "text/x-python",
   "name": "python",
   "nbconvert_exporter": "python",
   "pygments_lexer": "ipython3",
   "version": "3.9.16"
  }
 },
 "nbformat": 4,
 "nbformat_minor": 2
}
